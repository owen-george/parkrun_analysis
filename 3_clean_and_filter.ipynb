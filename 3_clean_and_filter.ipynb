{
 "cells": [
  {
   "cell_type": "code",
   "execution_count": null,
   "id": "2203b715-8f24-4fd8-9f6e-75dd5e591a54",
   "metadata": {},
   "outputs": [],
   "source": [
    "import pandas as pd\n",
    "from functions.cleaning import process_parkrun_data"
   ]
  },
  {
   "cell_type": "code",
   "execution_count": null,
   "id": "7f949745-f806-4cb3-8316-152b2233001c",
   "metadata": {},
   "outputs": [],
   "source": [
    "df = pd.read_csv('data/raw/parkrun_weather.csv')"
   ]
  },
  {
   "cell_type": "code",
   "execution_count": null,
   "id": "30d89f4e-07dd-41aa-9d7a-98f2b1622010",
   "metadata": {},
   "outputs": [],
   "source": [
    "df = process_parkrun_data(df)"
   ]
  },
  {
   "cell_type": "code",
   "execution_count": null,
   "id": "f2a2cc83-70be-4a00-a063-a1e7292f6327",
   "metadata": {},
   "outputs": [],
   "source": [
    "df.to_csv('data/clean/cleaned_parkrun.csv', index=False)"
   ]
  },
  {
   "cell_type": "code",
   "execution_count": null,
   "id": "33f2b9c7-e6ed-4b59-82bc-392da7a505f6",
   "metadata": {},
   "outputs": [],
   "source": [
    "def aggregate_event_data(df):\n",
    "    \"\"\"\n",
    "    Aggregates event data by 'Date', with the temperature, windspeed, precipitation, \n",
    "    and average run times, along with the best and worst times for each event.\n",
    "\n",
    "    Parameters:\n",
    "    df (pandas.DataFrame): The input dataframe with event data.\n",
    "\n",
    "    Returns:\n",
    "    pandas.DataFrame: A dataframe with the aggregated event data.\n",
    "    \"\"\"\n",
    "    try:\n",
    "        # Perform aggregation\n",
    "        event_df = df.groupby('Date').agg(\n",
    "            Total_event_runners=('Total_event_runners', 'mean'),\n",
    "            average_temperature=('temperature', 'mean'),\n",
    "            average_windspeed=('windspeed', 'mean'),\n",
    "            average_precipitation=('precipitation', 'mean'),\n",
    "            ave_run_time=('Time_in_minutes', 'mean'),\n",
    "            best_time=('Time_in_minutes', 'min'),\n",
    "            worst_time=('Time_in_minutes', 'max')\n",
    "        ).reset_index()\n",
    "\n",
    "        # Check for any missing values in important columns and handle them\n",
    "        if event_df.isnull().any().any():\n",
    "            print(\"Warning: Missing values found. Filling missing values with 0.\")\n",
    "            event_df = event_df.fillna(0)\n",
    "\n",
    "        return event_df\n",
    "\n",
    "    except KeyError as e:\n",
    "        print(f\"Error: Column '{e.args[0]}' not found in the DataFrame.\")\n",
    "        return None\n",
    "    except Exception as e:\n",
    "        print(f\"An error occurred: {e}\")\n",
    "        return None"
   ]
  },
  {
   "cell_type": "code",
   "execution_count": null,
   "id": "1c0d4647-cc61-4b6f-bb12-293ad6a82be4",
   "metadata": {},
   "outputs": [],
   "source": [
    "aggregate_event_data(df).to_csv('data/clean/event_data.csv', index=False)"
   ]
  },
  {
   "cell_type": "code",
   "execution_count": null,
   "id": "64142ac7-754f-4bd3-b622-79dd0925f7e4",
   "metadata": {},
   "outputs": [],
   "source": [
    "def aggregate_runner_stats(df):\n",
    "    \"\"\"\n",
    "    Aggregates runner statistics such as total appearances, best and worst times, \n",
    "    first and most recent event dates, and more for each runner in the dataset.\n",
    "\n",
    "    Parameters:\n",
    "    df (pandas.DataFrame): The input dataframe with runner event data.\n",
    "\n",
    "    Returns:\n",
    "    pandas.DataFrame: A dataframe with aggregated runner statistics.\n",
    "    \"\"\"\n",
    "    try:\n",
    "        # Group by 'Runner_id' and aggregate the necessary statistics\n",
    "        runner_df = df.groupby('Runner_id').agg({\n",
    "            'Name': 'last',  # Assuming 'Name' is consistent for a runner\n",
    "            'Gender': 'last',  # Assuming 'Gender' is consistent\n",
    "            'Age_group': 'last',  # Most recent Age Group\n",
    "            'Parkrun_count': 'max',  # Assuming it doesn't change\n",
    "            'Total_Appearances': 'max',  # Assuming it doesn't change\n",
    "            'Date': ['min', 'max'],  # Earliest and latest dates\n",
    "            'Time_in_minutes': ['mean', 'median', 'min', 'max', 'first', 'last']  # Time stats\n",
    "        }).reset_index()\n",
    "\n",
    "        # Rename columns to simplify access\n",
    "        runner_df.columns = [\n",
    "            'Runner_id', 'Name', 'Gender', 'Age_group', 'Parkrun_count', 'Total_event_appearances', \n",
    "            'first_event_date', 'most_recent_event_date', \n",
    "            'mean_time', 'median_time', 'PB_time', 'worst_time', 'first_time', 'most_recent_time'\n",
    "        ]\n",
    "\n",
    "        # Extract PB_date where PB_time equals the runner's best time\n",
    "        pb_df = df[df['PB_mins'] == df['Time_in_minutes']]\n",
    "        pb_df = pb_df[['Runner_id', 'Date']]\n",
    "\n",
    "        # Merge pb_df with runner_df to add PB_date\n",
    "        runner_df = runner_df.merge(pb_df, on='Runner_id', how='left')\n",
    "\n",
    "        # Rename the 'Date' column to 'PB_date'\n",
    "        runner_df.rename(columns={'Date': 'PB_date'}, inplace=True)\n",
    "\n",
    "        # Reorder columns as needed\n",
    "        runner_df = runner_df[['Runner_id', 'Name', 'Gender', 'Age_group', 'Parkrun_count',\n",
    "                               'Total_event_appearances', 'first_event_date', 'most_recent_event_date', \n",
    "                               'PB_date', 'mean_time', 'median_time', 'PB_time', 'worst_time', \n",
    "                               'first_time', 'most_recent_time']]\n",
    "\n",
    "        # Drop duplicates to ensure unique Runner_id\n",
    "        runner_df = runner_df.drop_duplicates(subset='Runner_id', keep='first')\n",
    "\n",
    "        return runner_df\n",
    "\n",
    "    except KeyError as e:\n",
    "        print(f\"Error: Column '{e.args[0]}' not found in the DataFrame.\")\n",
    "        return None\n",
    "    except Exception as e:\n",
    "        print(f\"An error occurred: {e}\")\n",
    "        return None\n"
   ]
  },
  {
   "cell_type": "code",
   "execution_count": null,
   "id": "ebd8f51c-7cec-439b-9fb8-5bc08103b0aa",
   "metadata": {},
   "outputs": [],
   "source": [
    "runner_df = aggregate_runner_stats(df)\n",
    "\n",
    "runner_df.to_csv('data/clean/runner_stats.csv', index=False)\n"
   ]
  },
  {
   "cell_type": "code",
   "execution_count": null,
   "id": "675b299c-c50b-42d1-9f66-706a3df86bc3",
   "metadata": {},
   "outputs": [],
   "source": [
    "df = pd.read_csv('data/clean/cleaned_parkrun.csv')"
   ]
  },
  {
   "cell_type": "code",
   "execution_count": null,
   "id": "bbb875a6-7412-4343-a9b8-82b81b8e7c7c",
   "metadata": {},
   "outputs": [],
   "source": [
    "def remove_outliers(df, column):\n",
    "    \"\"\"\n",
    "    Removes outliers from a specified column in a DataFrame using the IQR method, \n",
    "    grouped by 'Age_group' and 'Gender'.\n",
    "    \n",
    "    Parameters:\n",
    "    df (pd.DataFrame): The DataFrame containing the data.\n",
    "    column (str): The name of the column to check for outliers.\n",
    "    \n",
    "    Returns:\n",
    "    pd.DataFrame: A DataFrame with outliers removed for each group.\n",
    "    \"\"\"\n",
    "    # Group by 'Age_group' and 'Gender'\n",
    "    grouped_df = df.groupby(['Age_group', 'Gender'])\n",
    "    \n",
    "    def remove_outliers_from_group(group):\n",
    "        # Calculate Q1 (25th percentile) and Q3 (75th percentile) for each group\n",
    "        Q1 = group[column].quantile(0.25)\n",
    "        Q3 = group[column].quantile(0.75)\n",
    "        \n",
    "        # Calculate the IQR\n",
    "        IQR = Q3 - Q1\n",
    "        \n",
    "        # Define the lower and upper bounds for outlier detection\n",
    "        lower_bound = Q1 - 1.5 * IQR\n",
    "        upper_bound = Q3 + 1.5 * IQR\n",
    "        \n",
    "        # Filter the group to exclude outliers\n",
    "        return group[(group[column] >= lower_bound) & (group[column] <= upper_bound)]\n",
    "    \n",
    "    # Apply the outlier removal function to each group\n",
    "    filtered_df = grouped_df.apply(remove_outliers_from_group)\n",
    "    \n",
    "    return filtered_df\n"
   ]
  },
  {
   "cell_type": "code",
   "execution_count": null,
   "id": "eed65086-7cbc-489f-867d-bc8756527a8d",
   "metadata": {},
   "outputs": [],
   "source": [
    "filt_df = remove_outliers(df, 'Time_in_minutes')\n",
    "filt_df.to_csv('data/clean/cleaned_parkrun_no_outliers.csv', index=False)"
   ]
  },
  {
   "cell_type": "code",
   "execution_count": null,
   "id": "384c14cf-c8ac-485a-9560-1b7b36a19a20",
   "metadata": {},
   "outputs": [],
   "source": []
  }
 ],
 "metadata": {
  "kernelspec": {
   "display_name": "Python 3 (ipykernel)",
   "language": "python",
   "name": "python3"
  },
  "language_info": {
   "codemirror_mode": {
    "name": "ipython",
    "version": 3
   },
   "file_extension": ".py",
   "mimetype": "text/x-python",
   "name": "python",
   "nbconvert_exporter": "python",
   "pygments_lexer": "ipython3",
   "version": "3.12.3"
  }
 },
 "nbformat": 4,
 "nbformat_minor": 5
}
