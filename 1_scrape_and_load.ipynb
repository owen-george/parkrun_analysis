{
 "cells": [
  {
   "cell_type": "markdown",
   "id": "1a83d846-d5ad-4ce1-89cf-b3cce1c9896e",
   "metadata": {},
   "source": [
    "# Get data from parkrun website"
   ]
  },
  {
   "cell_type": "code",
   "execution_count": null,
   "id": "2203b715-8f24-4fd8-9f6e-75dd5e591a54",
   "metadata": {},
   "outputs": [],
   "source": [
    "from functions.scrape import fetch_parkrun_data"
   ]
  },
  {
   "cell_type": "markdown",
   "id": "37c80ebe-b260-4be7-b3e1-a7be4c34e62c",
   "metadata": {},
   "source": [
    "Sometimes this function will result in  a 405 error. \n",
    "\n",
    "In that case you may need to go to the site and complete a captcha. \n",
    "\n",
    "Save the dataframe up to the stage it completed to .csv, then close and reload the notebook.\n",
    "\n",
    "Continue to run the function from the next page to add to the final page with the existing dataframe also supplied as a parameter. This will concat the data to the existing dataframe."
   ]
  },
  {
   "cell_type": "markdown",
   "id": "fb6ebb4f-95f1-4d04-acea-a98abd36c735",
   "metadata": {},
   "source": [
    "### Function Description\n",
    "\n",
    "The function scrapes data from the parkrun website. The website URL is in the format:"
   ]
  },
  {
   "cell_type": "raw",
   "id": "bbc7cb6c-3935-4193-b812-516d406feb79",
   "metadata": {},
   "source": [
    "https://www.parkrun.org.uk/{location}/results/{number}/"
   ]
  },
  {
   "cell_type": "markdown",
   "id": "ecfc0230-a0ee-4ff4-933d-58d733d42922",
   "metadata": {},
   "source": [
    "- **`{location}`**: The name of the parkrun location (e.g., 'brighton').\n",
    "- **`{number}`**: The event number"
   ]
  },
  {
   "cell_type": "markdown",
   "id": "2fa96c27-b95d-4086-b55c-125a7143e91f",
   "metadata": {},
   "source": [
    "The function takes 4 parameters:\n",
    "- x: The event number to start from\n",
    "- y: The event number to end at\n",
    "- location: The parkrun location to extract data from. (If not supplied it will default to 'brighton')\n",
    "- df: The dataframe to add to. (If not supplied it will create a new dataframe)"
   ]
  },
  {
   "cell_type": "code",
   "execution_count": null,
   "id": "879ef953-10df-42b8-97d2-0fd0700900f6",
   "metadata": {},
   "outputs": [],
   "source": [
    "df = fetch_parkrun_data(1, 200)"
   ]
  },
  {
   "cell_type": "code",
   "execution_count": null,
   "id": "de38e121-ad4b-4825-a443-3f76095f6f7f",
   "metadata": {},
   "outputs": [],
   "source": [
    "df = fetch_parkrun_data(201, 771, df)"
   ]
  },
  {
   "cell_type": "code",
   "execution_count": null,
   "id": "8b9636de-b81a-453f-ae93-ac196f2d0dcd",
   "metadata": {},
   "outputs": [],
   "source": [
    "df = fetch_parkrun_data(772, 826, df)"
   ]
  },
  {
   "cell_type": "code",
   "execution_count": null,
   "id": "07fa5748-9e5c-45ee-b99a-077f88dd1e64",
   "metadata": {},
   "outputs": [],
   "source": [
    "df.to_csv('data/raw/parkrun_full_data.csv', index=False)"
   ]
  }
 ],
 "metadata": {
  "kernelspec": {
   "display_name": "Python 3 (ipykernel)",
   "language": "python",
   "name": "python3"
  },
  "language_info": {
   "codemirror_mode": {
    "name": "ipython",
    "version": 3
   },
   "file_extension": ".py",
   "mimetype": "text/x-python",
   "name": "python",
   "nbconvert_exporter": "python",
   "pygments_lexer": "ipython3",
   "version": "3.12.3"
  }
 },
 "nbformat": 4,
 "nbformat_minor": 5
}
