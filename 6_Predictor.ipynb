{
 "cells": [
  {
   "cell_type": "code",
   "execution_count": 1,
   "id": "2203b715-8f24-4fd8-9f6e-75dd5e591a54",
   "metadata": {},
   "outputs": [],
   "source": [
    "import pandas as pd\n",
    "import seaborn as sns\n",
    "import matplotlib.pyplot as plt\n",
    "import numpy as np\n",
    "import matplotlib.pyplot as plt\n",
    "import pickle \n",
    "from datetime import datetime\n",
    "import math \n",
    "import requests\n",
    "from bs4 import BeautifulSoup\n",
    "import time\n",
    "import sys \n",
    "\n",
    "from functions.predictor import process_parkrun_data_for_models, fetch_runner_data, user_input, target_time"
   ]
  },
  {
   "cell_type": "markdown",
   "id": "9e8961cc-2a84-484d-b2b1-dc92e48fcea3",
   "metadata": {},
   "source": [
    "If you have made your own model/scaler with different parkrun data then update the filepaths below:"
   ]
  },
  {
   "cell_type": "code",
   "execution_count": 3,
   "id": "f4f91dee-de0d-470f-ac21-2e82cb4094ee",
   "metadata": {},
   "outputs": [],
   "source": [
    "model_to_use = 'models/to_use/xgb_opt_model.pkl'\n",
    "scaler_to_use = 'models/to_use/minmax_scaler.pkl'\n",
    "data_for_model = 'data/clean/cleaned_parkrun_no_outliers.csv'"
   ]
  },
  {
   "cell_type": "code",
   "execution_count": 4,
   "id": "3223b371-1174-4465-a610-c9e6974acfc2",
   "metadata": {},
   "outputs": [],
   "source": [
    "df = process_parkrun_data_for_models(data_for_model)"
   ]
  },
  {
   "cell_type": "markdown",
   "id": "cfc359a5-5c0e-479c-a962-d728d3954f82",
   "metadata": {},
   "source": [
    "# Automatic input (with parkrun id or results link)\n"
   ]
  },
  {
   "cell_type": "markdown",
   "id": "db7040f3-07cc-4454-9a1d-0c83d18c5cbd",
   "metadata": {},
   "source": [
    "Do you know your parkrun id? \n",
    "Should be an integer following A. For example A-5125087\n",
    "\n",
    "Your link for full results should be in the form:\n",
    "https://www.parkrun.org.uk/parkrunner/5125087/all"
   ]
  },
  {
   "cell_type": "code",
   "execution_count": 7,
   "id": "a052312c-ef3b-4953-a282-f7e5f80d8288",
   "metadata": {},
   "outputs": [],
   "source": [
    "# Required parameter\n",
    "parkrun_id = 5125087"
   ]
  },
  {
   "cell_type": "markdown",
   "id": "1cbf9323-6109-4760-9d26-df3e3d781b79",
   "metadata": {},
   "source": [
    "Below are the optional parameters.\n",
    "\n",
    "- next_parkrun_date: The date of the upcoming event in the form \"YYYY-MM-DD\"\n",
    "\n",
    "Weather parameters for the anticipated conditions for the run in the form:\n",
    "- temp: Temperature in °C\n",
    "- wind: Windspeed in km/h\n",
    "- precipitation: The expected precipitation amount in mm\n",
    "\n",
    "If these are left blank the model will default to today's date and average values for the weather parameters."
   ]
  },
  {
   "cell_type": "code",
   "execution_count": 9,
   "id": "d189fcae-36fd-4a49-a18c-e8b156ecf26e",
   "metadata": {},
   "outputs": [],
   "source": [
    "# Optional parameters:\n",
    "next_parkrun_date = '2024-12-21' # If not used then uses today's date\n",
    "\n",
    "# Weather parameters. If not supplied then uses default/average values \n",
    "temp = 9 \n",
    "wind = 20\n",
    "precipitation = 0\n",
    "\n",
    "weather_list = [temp, wind, precipitation]"
   ]
  },
  {
   "cell_type": "markdown",
   "id": "711f9f85-1833-419f-9190-cc203f2284a6",
   "metadata": {},
   "source": [
    "Get runner data and put through model for the run target:"
   ]
  },
  {
   "cell_type": "code",
   "execution_count": null,
   "id": "f0e98f8c-7645-4157-897d-db5aadf0628c",
   "metadata": {},
   "outputs": [],
   "source": [
    "runner_df = fetch_runner_data(parkrun_id, df, next_parkrun_date, weather_list)"
   ]
  },
  {
   "cell_type": "code",
   "execution_count": 12,
   "id": "1b062783-f9f1-4856-becb-945fdc9d95d1",
   "metadata": {},
   "outputs": [
    {
     "name": "stdout",
     "output_type": "stream",
     "text": [
      "Personal PB: 27:27\n",
      "Previous time: 27:27\n",
      "Target time: 29:46\n"
     ]
    },
    {
     "data": {
      "text/plain": [
       "29.76386327346166"
      ]
     },
     "execution_count": 12,
     "metadata": {},
     "output_type": "execute_result"
    }
   ],
   "source": [
    "target_time(runner_df, df, model_to_use, scaler_to_use)"
   ]
  },
  {
   "cell_type": "markdown",
   "id": "9af0fdd8-1aa6-4826-b7f1-7c1954ce1888",
   "metadata": {},
   "source": [
    "# Manual input:"
   ]
  },
  {
   "cell_type": "code",
   "execution_count": null,
   "id": "c8c8434b-6060-4777-a22e-5e93106b40ef",
   "metadata": {},
   "outputs": [],
   "source": [
    "user_stats = user_input(df)"
   ]
  },
  {
   "cell_type": "code",
   "execution_count": null,
   "id": "7010999d-3a32-4754-9394-4ae623013e0e",
   "metadata": {},
   "outputs": [],
   "source": [
    "target_time(user_stats, df, model_to_use, scaler_to_use)"
   ]
  },
  {
   "cell_type": "code",
   "execution_count": null,
   "id": "c92cd611-99e8-4ed4-90a4-fda223dde301",
   "metadata": {},
   "outputs": [],
   "source": []
  }
 ],
 "metadata": {
  "kernelspec": {
   "display_name": "Python 3 (ipykernel)",
   "language": "python",
   "name": "python3"
  },
  "language_info": {
   "codemirror_mode": {
    "name": "ipython",
    "version": 3
   },
   "file_extension": ".py",
   "mimetype": "text/x-python",
   "name": "python",
   "nbconvert_exporter": "python",
   "pygments_lexer": "ipython3",
   "version": "3.12.3"
  }
 },
 "nbformat": 4,
 "nbformat_minor": 5
}
