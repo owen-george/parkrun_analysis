{
 "cells": [
  {
   "cell_type": "code",
   "execution_count": 1,
   "id": "2203b715-8f24-4fd8-9f6e-75dd5e591a54",
   "metadata": {},
   "outputs": [],
   "source": [
    "import pandas as pd\n",
    "import seaborn as sns\n",
    "import matplotlib.pyplot as plt\n",
    "import numpy as np\n",
    "import matplotlib.pyplot as plt\n",
    "import pickle \n",
    "from datetime import datetime\n",
    "import math \n",
    "from functions.predictor import process_parkrun_data_for_models, user_input, target_time"
   ]
  },
  {
   "cell_type": "code",
   "execution_count": 2,
   "id": "f4f91dee-de0d-470f-ac21-2e82cb4094ee",
   "metadata": {},
   "outputs": [],
   "source": [
    "model_file_path = 'models/to_use/xgb_opt_model.pkl'\n",
    "scaler_file_path = 'models/to_use/minmax_scaler.pkl'\n",
    "data_for_model = 'data/clean/cleaned_parkrun_no_outliers.csv'"
   ]
  },
  {
   "cell_type": "code",
   "execution_count": 3,
   "id": "3223b371-1174-4465-a610-c9e6974acfc2",
   "metadata": {},
   "outputs": [],
   "source": [
    "df = process_parkrun_data_for_models(data_for_model)"
   ]
  },
  {
   "cell_type": "markdown",
   "id": "cfc359a5-5c0e-479c-a962-d728d3954f82",
   "metadata": {},
   "source": [
    "# Automatic input (with parkrun id or results link)\n"
   ]
  },
  {
   "cell_type": "markdown",
   "id": "db7040f3-07cc-4454-9a1d-0c83d18c5cbd",
   "metadata": {},
   "source": [
    "Do you know your parkrun id? \n",
    "Should be an integer following A. For example A-5125087\n",
    "\n",
    "Your link for full results should be in the form:\n",
    "https://www.parkrun.org.uk/parkrunner/5125087/all"
   ]
  },
  {
   "cell_type": "code",
   "execution_count": null,
   "id": "1f2cb5e8-1943-4e52-9d79-f6450152c94c",
   "metadata": {},
   "outputs": [],
   "source": []
  },
  {
   "cell_type": "markdown",
   "id": "9af0fdd8-1aa6-4826-b7f1-7c1954ce1888",
   "metadata": {},
   "source": [
    "# Manual input:"
   ]
  },
  {
   "cell_type": "code",
   "execution_count": 6,
   "id": "7010999d-3a32-4754-9394-4ae623013e0e",
   "metadata": {},
   "outputs": [
    {
     "name": "stdin",
     "output_type": "stream",
     "text": [
      "Enter expected temperature in (°C). (Leave blank for a default value of 11.8):  5\n",
      "Enter expected windspeed in km/h (Leave blank for a default value of 20.6):  12\n",
      "Is it likely to rain? (y/n):  n\n",
      "How many parkruns have you run previously? (Leave blank for a default value of 33.0):  28\n",
      "Enter the planned parkrun date (leave blank for today, format YYYY-MM-DD):  \n",
      "Enter the date of your last parkrun (format YYYY-MM-DD):  05-10-2024\n"
     ]
    },
    {
     "name": "stdout",
     "output_type": "stream",
     "text": [
      "Invalid date format. Please enter the date in the format YYYY-MM-DD.\n"
     ]
    },
    {
     "name": "stdin",
     "output_type": "stream",
     "text": [
      "Enter the date of your last parkrun (format YYYY-MM-DD):  2024-10-05\n",
      "Enter the rough date you started doing parkruns (leave blank for 2022-05-13, format YYYY-MM-DD):  2018-6-6\n",
      "Enter your most recent parkrun time in the form 'mins, secs' (Required):  27,44\n",
      "Enter your previous PB in the form 'mins, secs'. Leave blank to use your previous time 27.7 mins:  23,51\n",
      "Enter your average parkrun time in the form 'mins, secs'. Leave blank to use your previous time 27.7 mins:  28,32\n",
      "Enter your age:  30\n",
      "Enter your gender (m/f) or leave blank:  m\n"
     ]
    },
    {
     "name": "stdout",
     "output_type": "stream",
     "text": [
      "\n",
      "Data added successfully\n",
      "Target time: 28m2s\n"
     ]
    },
    {
     "data": {
      "text/plain": [
       "28.032959238688154"
      ]
     },
     "execution_count": 6,
     "metadata": {},
     "output_type": "execute_result"
    }
   ],
   "source": [
    "target_time(user_input(df), df, model_file_path, scaler_file_path)"
   ]
  },
  {
   "cell_type": "code",
   "execution_count": null,
   "id": "d92c6c6b-bc42-46c7-8b38-a93f03c17b0d",
   "metadata": {},
   "outputs": [],
   "source": []
  }
 ],
 "metadata": {
  "kernelspec": {
   "display_name": "Python 3 (ipykernel)",
   "language": "python",
   "name": "python3"
  },
  "language_info": {
   "codemirror_mode": {
    "name": "ipython",
    "version": 3
   },
   "file_extension": ".py",
   "mimetype": "text/x-python",
   "name": "python",
   "nbconvert_exporter": "python",
   "pygments_lexer": "ipython3",
   "version": "3.12.3"
  }
 },
 "nbformat": 4,
 "nbformat_minor": 5
}
