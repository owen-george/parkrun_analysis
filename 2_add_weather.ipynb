{
 "cells": [
  {
   "cell_type": "code",
   "execution_count": null,
   "id": "2203b715-8f24-4fd8-9f6e-75dd5e591a54",
   "metadata": {},
   "outputs": [],
   "source": [
    "import requests\n",
    "import pandas as pd\n",
    "import time\n",
    "import numpy as np\n",
    "from functions.weather import fetch_weather"
   ]
  },
  {
   "cell_type": "code",
   "execution_count": null,
   "id": "7f949745-f806-4cb3-8316-152b2233001c",
   "metadata": {},
   "outputs": [],
   "source": [
    "parkrun_df = pd.read_csv('data/raw/parkrun_full_data.csv')\n",
    "parkrun_df['Date'] = pd.to_datetime(parkrun_df['Date'], format='%d/%m/%Y')"
   ]
  },
  {
   "cell_type": "code",
   "execution_count": null,
   "id": "14fb671b-d259-4fd1-a664-017c0e781ab5",
   "metadata": {},
   "outputs": [],
   "source": [
    "latitude=50.8425\n",
    "longitude=-0.1718"
   ]
  },
  {
   "cell_type": "code",
   "execution_count": null,
   "id": "6a1fb70a-63c9-41fa-9964-2c2786ecd52a",
   "metadata": {},
   "outputs": [],
   "source": [
    "# Get the 'Date' column in proper format\n",
    "date_list = list(pd.to_datetime(parkrun_df['Date'].unique()).strftime('%Y-%m-%d'))\n",
    "\n",
    "# Initialize an empty list to store weather data\n",
    "weather_data = []\n",
    "\n",
    "# Fetch weather data for each date\n",
    "for i, date in enumerate(date_list):\n",
    "    print(f\"Fetching weather data for {date} ({i + 1}/{len(date_list)})...    \", end=\"\\r\")\n",
    "    weather_data.append(fetch_weather(date, latitude, longitude))\n",
    "    time.sleep(0.1)  # To avoid rate limits\n",
    "\n",
    "# Convert the list of weather data into a DataFrame\n",
    "weather_df = pd.DataFrame(weather_data)\n",
    "\n",
    "# Save the data to a CSV file for future use\n",
    "weather_df.to_csv('data/raw/date_weather.csv', index=False)"
   ]
  },
  {
   "cell_type": "code",
   "execution_count": null,
   "id": "04e676fc-223e-4185-8171-1199f81180f5",
   "metadata": {},
   "outputs": [],
   "source": [
    "weather_df = pd.read_csv('data/raw/date_weather.csv')                                 \n",
    "weather_df['date'] = pd.to_datetime(weather_df['date'])\n",
    "\n",
    "# Merge the DataFrames on the 'Date' column\n",
    "merged_df = parkrun_df.merge(weather_df, left_on='Date', right_on='date', how='left')\n",
    "\n",
    "# Drop the duplicate 'date' column from weather_df\n",
    "merged_df = merged_df.drop(columns=['date'])\n",
    "\n",
    "# Display the first few rows of the merged DataFrame\n",
    "merged_df.head()\n"
   ]
  },
  {
   "cell_type": "code",
   "execution_count": null,
   "id": "ddb30870-3750-4933-95fd-1a17f27ed8ae",
   "metadata": {},
   "outputs": [],
   "source": [
    "# Save the merged DataFrame for future use\n",
    "merged_df.to_csv('data/raw/parkrun_weather.csv', index=False)"
   ]
  },
  {
   "cell_type": "code",
   "execution_count": null,
   "id": "37677b59-caf2-4c15-ae1a-d7a6b2c9840a",
   "metadata": {},
   "outputs": [],
   "source": []
  }
 ],
 "metadata": {
  "kernelspec": {
   "display_name": "Python 3 (ipykernel)",
   "language": "python",
   "name": "python3"
  },
  "language_info": {
   "codemirror_mode": {
    "name": "ipython",
    "version": 3
   },
   "file_extension": ".py",
   "mimetype": "text/x-python",
   "name": "python",
   "nbconvert_exporter": "python",
   "pygments_lexer": "ipython3",
   "version": "3.12.3"
  }
 },
 "nbformat": 4,
 "nbformat_minor": 5
}
